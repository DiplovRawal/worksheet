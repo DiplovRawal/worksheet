{
  "nbformat": 4,
  "nbformat_minor": 0,
  "metadata": {
    "colab": {
      "provenance": []
    },
    "kernelspec": {
      "name": "python3",
      "display_name": "Python 3"
    },
    "language_info": {
      "name": "python"
    }
  },
  "cells": [
    {
      "cell_type": "code",
      "execution_count": 1,
      "metadata": {
        "colab": {
          "base_uri": "https://localhost:8080/"
        },
        "id": "GXtPEO78dnvQ",
        "outputId": "1f9aed16-04c0-42e5-c33b-04e72f527ce1"
      },
      "outputs": [
        {
          "output_type": "stream",
          "name": "stdout",
          "text": [
            "Empty Array (2x2):  [[4.75156605e-310 0.00000000e+000]\n",
            " [6.84286396e-310 6.84284533e-310]]\n",
            "\n",
            "All-Ones Array (4x2):  [[1. 1.]\n",
            " [1. 1.]\n",
            " [1. 1.]\n",
            " [1. 1.]]\n",
            "\n",
            "Array Filled with Value 7 (3x3):  [[7 7 7]\n",
            " [7 7 7]\n",
            " [7 7 7]]\n",
            "\n",
            "Zeros Array with Same Shape as Reference Array:  [[0 0 0]\n",
            " [0 0 0]]\n",
            "\n",
            "Ones Array with Same Shape as Reference Array:  [[1 1 1]\n",
            " [1 1 1]]\n",
            "\n",
            "Converted List to NumPy Array:  [1 2 3 4]\n"
          ]
        }
      ],
      "source": [
        "# 4.1 Warming Up Exercise: Basic Vector and Matrix Operation with Numpy.\n",
        "\n",
        "# Problem - 1: Array Creation:\n",
        "\n",
        "import numpy as np\n",
        "\n",
        "# 1. Initialize an empty array with size 2X2.\n",
        "empty_array = np.empty((2, 2))\n",
        "print(\"Empty Array (2x2): \", empty_array)\n",
        "\n",
        "# 2. Initialize an all-one array with size 4X2.\n",
        "ones_array = np.ones((4, 2))\n",
        "print(\"\\nAll-Ones Array (4x2): \", ones_array)\n",
        "\n",
        "# 3. Return a new array of given shape and type, filled with a fill value.\n",
        "fill_value = 7\n",
        "filled_array = np.full((3, 3), fill_value)\n",
        "print(\"\\nArray Filled with Value 7 (3x3): \", filled_array)\n",
        "\n",
        "# 4. Return a new array of zeros with the same shape and type as a given array.\n",
        "reference_array = np.array([[1, 2, 3], [4, 5, 6]])\n",
        "zeros_like_array = np.zeros_like(reference_array)\n",
        "print(\"\\nZeros Array with Same Shape as Reference Array: \", zeros_like_array)\n",
        "\n",
        "# 5. Return a new array of ones with the same shape and type as a given array.\n",
        "ones_like_array = np.ones_like(reference_array)\n",
        "print(\"\\nOnes Array with Same Shape as Reference Array: \", ones_like_array)\n",
        "\n",
        "# 6. For an existing list, convert it to a NumPy array.\n",
        "new_list = [1, 2, 3, 4]\n",
        "numpy_array = np.array(new_list)\n",
        "print(\"\\nConverted List to NumPy Array: \", numpy_array)\n"
      ]
    },
    {
      "cell_type": "code",
      "source": [
        "# 4.1.1 Problem - 2: Array Manipulation: Numerical Ranges and Array indexing:\n",
        "# Complete the following tasks:\n",
        "\n",
        "import numpy as np\n",
        "\n",
        "# 1. Create an array with values ranging from 10 to 49.\n",
        "array_range = np.arange(10, 50)\n",
        "print(\"Array with values ranging from 10 to 49:\\n\", array_range)\n",
        "\n",
        "# 2. Create a 3X3 matrix with values ranging from 0 to 8.\n",
        "matrix_3x3 = np.arange(9).reshape(3, 3)\n",
        "print(\"\\n3x3 Matrix with values ranging from 0 to 8:\\n\", matrix_3x3)\n",
        "\n",
        "# 3. Create a 3X3 identity matrix.\n",
        "identity_matrix = np.eye(3)\n",
        "print(\"\\n3x3 Identity Matrix:\\n\", identity_matrix)\n",
        "\n",
        "# 4. Create a random array of size 30 and find the mean of the array.\n",
        "random_array = np.random.random(30)\n",
        "mean_value = random_array.mean()\n",
        "print(\"\\nRandom Array of Size 30:\\n\", random_array)\n",
        "print(\"Mean of the Random Array:\", mean_value)\n",
        "\n",
        "# 5. Create a 10X10 array with random values and find the minimum and maximum values.\n",
        "random_matrix = np.random.random((10, 10))\n",
        "min_value = random_matrix.min()\n",
        "max_value = random_matrix.max()\n",
        "print(\"\\n10x10 Array with Random Values:\\n\", random_matrix)\n",
        "print(\"Minimum Value:\", min_value)\n",
        "print(\"Maximum Value:\", max_value)\n",
        "\n",
        "# 6. Create a zero array of size 10 and replace the 5th element with 1.\n",
        "zero_array = np.zeros(10)\n",
        "zero_array[4] = 1  # Replace 5th element (index 4) with 1\n",
        "print(\"\\nZero Array with 5th Element Replaced by 1:\\n\", zero_array)\n",
        "\n",
        "# 7. Reverse an array arr = [1, 2, 0, 0, 4, 0].\n",
        "arr = [1, 2, 0, 0, 4, 0]\n",
        "reversed_array = arr[::-1]\n",
        "print(\"\\nReversed Array:\\n\", reversed_array)\n",
        "\n",
        "# 8. Create a 2D array with 1 on the border and 0 inside.\n",
        "border_array = np.ones((5, 5))  # Example size: 5x5\n",
        "border_array[1:-1, 1:-1] = 0\n",
        "print(\"\\n2D Array with 1 on Border and 0 Inside:\\n\", border_array)\n",
        "\n",
        "# 9. Create an 8X8 matrix and fill it with a checkerboard pattern.\n",
        "checkerboard = np.zeros((8, 8), dtype=int)\n",
        "checkerboard[1::2, ::2] = 1  # Fill odd rows, even columns\n",
        "checkerboard[::2, 1::2] = 1  # Fill even rows, odd columns\n",
        "print(\"\\n8x8 Checkerboard Pattern:\\n\", checkerboard)"
      ],
      "metadata": {
        "colab": {
          "base_uri": "https://localhost:8080/"
        },
        "id": "BLBGiX9EgBhJ",
        "outputId": "0178b8f9-9349-44d4-9529-ec5e91905b11"
      },
      "execution_count": 2,
      "outputs": [
        {
          "output_type": "stream",
          "name": "stdout",
          "text": [
            "Array with values ranging from 10 to 49:\n",
            " [10 11 12 13 14 15 16 17 18 19 20 21 22 23 24 25 26 27 28 29 30 31 32 33\n",
            " 34 35 36 37 38 39 40 41 42 43 44 45 46 47 48 49]\n",
            "\n",
            "3x3 Matrix with values ranging from 0 to 8:\n",
            " [[0 1 2]\n",
            " [3 4 5]\n",
            " [6 7 8]]\n",
            "\n",
            "3x3 Identity Matrix:\n",
            " [[1. 0. 0.]\n",
            " [0. 1. 0.]\n",
            " [0. 0. 1.]]\n",
            "\n",
            "Random Array of Size 30:\n",
            " [0.56019846 0.38813044 0.54372243 0.10126443 0.66978249 0.12852151\n",
            " 0.52630495 0.59845454 0.64758959 0.65090923 0.22100842 0.99654119\n",
            " 0.58414226 0.89675965 0.99041107 0.87559139 0.3167364  0.1743979\n",
            " 0.86654379 0.55676157 0.15609446 0.54673027 0.46376905 0.22895372\n",
            " 0.09951748 0.92955454 0.63569573 0.01261055 0.70375765 0.06075954]\n",
            "Mean of the Random Array: 0.5043738228391129\n",
            "\n",
            "10x10 Array with Random Values:\n",
            " [[0.33334343 0.3501157  0.71571168 0.73901003 0.50578395 0.26450217\n",
            "  0.31884369 0.64856592 0.50317535 0.90544644]\n",
            " [0.03489628 0.85081782 0.33982037 0.85447227 0.34372291 0.52845233\n",
            "  0.20289475 0.26354621 0.29042563 0.52288679]\n",
            " [0.61202121 0.61148054 0.19855276 0.62265295 0.49763854 0.6402562\n",
            "  0.74873463 0.255331   0.39401918 0.28802313]\n",
            " [0.96698441 0.46283213 0.95322606 0.46426125 0.10830651 0.26092763\n",
            "  0.88248562 0.09460326 0.39443055 0.70382263]\n",
            " [0.44129755 0.82100003 0.76046934 0.39574831 0.9844355  0.92046974\n",
            "  0.2456115  0.90350301 0.7870519  0.95509339]\n",
            " [0.05128116 0.1156385  0.71451817 0.56226704 0.53699482 0.55116292\n",
            "  0.91352624 0.7846689  0.05324438 0.71135086]\n",
            " [0.01446584 0.7217264  0.26060722 0.46393972 0.39073119 0.85517031\n",
            "  0.28347172 0.0951096  0.83925118 0.80822426]\n",
            " [0.14477024 0.02483209 0.30279698 0.58714179 0.78548936 0.99118848\n",
            "  0.09254374 0.42371756 0.78997972 0.29717421]\n",
            " [0.1739675  0.24930817 0.4903389  0.24716458 0.09562894 0.14546492\n",
            "  0.71711285 0.08720161 0.50583235 0.61383616]\n",
            " [0.42115553 0.00811631 0.40124839 0.81941258 0.12471113 0.97545626\n",
            "  0.7800744  0.1960523  0.98102922 0.79452982]]\n",
            "Minimum Value: 0.008116307706800496\n",
            "Maximum Value: 0.9911884781948772\n",
            "\n",
            "Zero Array with 5th Element Replaced by 1:\n",
            " [0. 0. 0. 0. 1. 0. 0. 0. 0. 0.]\n",
            "\n",
            "Reversed Array:\n",
            " [0, 4, 0, 0, 2, 1]\n",
            "\n",
            "2D Array with 1 on Border and 0 Inside:\n",
            " [[1. 1. 1. 1. 1.]\n",
            " [1. 0. 0. 0. 1.]\n",
            " [1. 0. 0. 0. 1.]\n",
            " [1. 0. 0. 0. 1.]\n",
            " [1. 1. 1. 1. 1.]]\n",
            "\n",
            "8x8 Checkerboard Pattern:\n",
            " [[0 1 0 1 0 1 0 1]\n",
            " [1 0 1 0 1 0 1 0]\n",
            " [0 1 0 1 0 1 0 1]\n",
            " [1 0 1 0 1 0 1 0]\n",
            " [0 1 0 1 0 1 0 1]\n",
            " [1 0 1 0 1 0 1 0]\n",
            " [0 1 0 1 0 1 0 1]\n",
            " [1 0 1 0 1 0 1 0]]\n"
          ]
        }
      ]
    },
    {
      "cell_type": "code",
      "source": [
        "# Problem - 3: Array Operations:\n",
        "# For the following arrays:\n",
        "# x = np.array([[1,2],[3,5]]) and y = np.array([[5,6],[7,8]]);\n",
        "# v = np.array([9,10]) and w = np.array([11,12]);\n",
        "# Complete all the task using numpy:\n",
        "\n",
        "import numpy as np\n",
        "\n",
        "# Given arrays\n",
        "x = np.array([[1, 2], [3, 5]])\n",
        "y = np.array([[5, 6], [7, 8]])\n",
        "v = np.array([9, 10])\n",
        "w = np.array([11, 12])\n",
        "\n",
        "# 1. Add the two arrays\n",
        "array_sum = x + y\n",
        "print(\"Sum of x and y:\\n\", array_sum)\n",
        "\n",
        "# 2. Subtract the two arrays\n",
        "array_diff = x - y\n",
        "print(\"\\nDifference of x and y:\\n\", array_diff)\n",
        "\n",
        "# 3. Multiply the array with any integer (e.g., multiply by 3)\n",
        "array_scaled = x * 3\n",
        "print(\"\\nArray x multiplied by 3:\\n\", array_scaled)\n",
        "\n",
        "# 4. Find the square of each element in the array\n",
        "array_squared = x ** 2\n",
        "print(\"\\nSquare of each element in x:\\n\", array_squared)\n",
        "\n",
        "# 5. Find the dot product between v(and)w ; x(and)v ; x(and)y.\n",
        "dot_vw = np.dot(v, w)\n",
        "print(\"\\nDot product of v and w:\", dot_vw)\n",
        "dot_xv = np.dot(x, v)\n",
        "print(\"\\nDot product of x and v:\\n\", dot_xv)\n",
        "dot_xy = np.dot(x, y)\n",
        "print(\"\\nDot product of x and y:\\n\", dot_xy)\n",
        "\n",
        "# 6. Concatenate x and y along rows, and v and w along columns\n",
        "# along rows\n",
        "concat_xy_row = np.concatenate((x, y), axis=0)\n",
        "print(\"\\nConcatenation of x and y along rows:\\n\", concat_xy_row)\n",
        "\n",
        "# along columns\n",
        "concat_vw_col = np.vstack((v, w)).T  # Stack vertically and transpose for column concat\n",
        "print(\"\\nConcatenation of v and w along columns:\\n\", concat_vw_col)\n",
        "\n",
        "# 7. Concatenate x and v: if you get an error, observe and explain why did you get the error?\n",
        "try:\n",
        "    concat_xv = np.concatenate((x, v), axis=0)  # Attempt to concatenate along rows\n",
        "    print(\"\\nConcatenation of x and v:\\n\", concat_xv)\n",
        "except ValueError as e:\n",
        "    print(\"\\nError during concatenation of x and v:\", e)\n",
        "\n",
        "# I got an error because v and x didn't have matching dimensions\n",
        "# Fixing the error by reshaping v to match x's dimensions\n",
        "v_reshaped = v[np.newaxis, :]  # Reshape v to (1, 2)\n",
        "concat_xv_fixed = np.concatenate((x, v_reshaped), axis=0)\n",
        "print(\"\\nConcatenation of x and reshaped v:\\n\", concat_xv_fixed)"
      ],
      "metadata": {
        "colab": {
          "base_uri": "https://localhost:8080/"
        },
        "id": "paf4gxKkgHDQ",
        "outputId": "bebc972d-11ee-4394-a0fa-a26bbeef036e"
      },
      "execution_count": 3,
      "outputs": [
        {
          "output_type": "stream",
          "name": "stdout",
          "text": [
            "Sum of x and y:\n",
            " [[ 6  8]\n",
            " [10 13]]\n",
            "\n",
            "Difference of x and y:\n",
            " [[-4 -4]\n",
            " [-4 -3]]\n",
            "\n",
            "Array x multiplied by 3:\n",
            " [[ 3  6]\n",
            " [ 9 15]]\n",
            "\n",
            "Square of each element in x:\n",
            " [[ 1  4]\n",
            " [ 9 25]]\n",
            "\n",
            "Dot product of v and w: 219\n",
            "\n",
            "Dot product of x and v:\n",
            " [29 77]\n",
            "\n",
            "Dot product of x and y:\n",
            " [[19 22]\n",
            " [50 58]]\n",
            "\n",
            "Concatenation of x and y along rows:\n",
            " [[1 2]\n",
            " [3 5]\n",
            " [5 6]\n",
            " [7 8]]\n",
            "\n",
            "Concatenation of v and w along columns:\n",
            " [[ 9 11]\n",
            " [10 12]]\n",
            "\n",
            "Error during concatenation of x and v: all the input arrays must have same number of dimensions, but the array at index 0 has 2 dimension(s) and the array at index 1 has 1 dimension(s)\n",
            "\n",
            "Concatenation of x and reshaped v:\n",
            " [[ 1  2]\n",
            " [ 3  5]\n",
            " [ 9 10]]\n"
          ]
        }
      ]
    },
    {
      "cell_type": "code",
      "source": [
        "# Problem - 4: Matrix Operations:\n",
        "# • For the following arrays:\n",
        "# A = np.array([[3,4],[7,8]]) and B = np.array([[5,3],[2,1]]);\n",
        "# Prove following with Numpy:\n",
        "\n",
        "import numpy as np\n",
        "\n",
        "# Given arrays\n",
        "A = np.array([[3, 4], [7, 8]])\n",
        "B = np.array([[5, 3], [2, 1]])\n",
        "\n",
        "# 1. Prove A.A⁻¹ = I (Identity Matrix)\n",
        "# Inverse of A\n",
        "A_inv = np.linalg.inv(A)\n",
        "\n",
        "# A . A⁻¹\n",
        "result = np.dot(A, A_inv)\n",
        "\n",
        "print(\"A * A⁻¹:\\n\", result)\n",
        "\n",
        "# 2. Prove AB ≠ BA\n",
        "AB = np.dot(A, B)\n",
        "BA = np.dot(B, A)\n",
        "\n",
        "print(\"\\nAB:\\n\", AB)\n",
        "print(\"\\nBA:\\n\", BA)\n",
        "\n",
        "# Check if AB = BA\n",
        "is_equal = np.array_equal(AB, BA)\n",
        "print(\"\\nIs AB equal to BA? \", is_equal)\n",
        "\n",
        "# 3. Prove (AB)ᵀ = BᵀAᵀ\n",
        "\n",
        "# (AB)ᵀ\n",
        "AB_transpose = np.transpose(AB)\n",
        "\n",
        "#Bᵀ and Aᵀ\n",
        "BT = np.transpose(B)\n",
        "AT = np.transpose(A)\n",
        "\n",
        "# BᵀAᵀ\n",
        "BT_AT = np.dot(BT, AT)\n",
        "\n",
        "print(\"\\n(AB)ᵀ:\\n\", AB_transpose)\n",
        "print(\"\\nBᵀAᵀ:\\n\", BT_AT)\n",
        "\n",
        "# Check if (AB)ᵀ = BᵀAᵀ\n",
        "is_transpose_equal = np.array_equal(AB_transpose, BT_AT)\n",
        "print(\"\\nIs (AB)ᵀ equal to BᵀAᵀ? \", is_transpose_equal)"
      ],
      "metadata": {
        "colab": {
          "base_uri": "https://localhost:8080/"
        },
        "id": "YTUg4KMHgJxa",
        "outputId": "39a5133a-f4ee-4c4b-8a07-83fd41971f1c"
      },
      "execution_count": 4,
      "outputs": [
        {
          "output_type": "stream",
          "name": "stdout",
          "text": [
            "A * A⁻¹:\n",
            " [[1.00000000e+00 0.00000000e+00]\n",
            " [1.77635684e-15 1.00000000e+00]]\n",
            "\n",
            "AB:\n",
            " [[23 13]\n",
            " [51 29]]\n",
            "\n",
            "BA:\n",
            " [[36 44]\n",
            " [13 16]]\n",
            "\n",
            "Is AB equal to BA?  False\n",
            "\n",
            "(AB)ᵀ:\n",
            " [[23 51]\n",
            " [13 29]]\n",
            "\n",
            "BᵀAᵀ:\n",
            " [[23 51]\n",
            " [13 29]]\n",
            "\n",
            "Is (AB)ᵀ equal to BᵀAᵀ?  True\n"
          ]
        }
      ]
    },
    {
      "cell_type": "code",
      "source": [
        "# Solve the following system of Linear equation using Inverse Methods.\n",
        "# 2x − 3y + z = −1\n",
        "# x − y + 2z = −3\n",
        "# 3x + y − z = 9\n",
        "\n",
        "# {Hint: First use Numpy array to represent the equation in Matrix form. Then Solve for: AX = B}\n",
        "\n",
        "import numpy as np\n",
        "\n",
        "A = np.array([[2, -3, 1],\n",
        "              [1, -1, 2],\n",
        "              [3, 1, -1]])\n",
        "\n",
        "B = np.array([-1, -3, 9])\n",
        "\n",
        "# Step 1: Determinant of A\n",
        "det_A = (A[0, 0] * (A[1, 1] * A[2, 2] - A[1, 2] * A[2, 1]) -\n",
        "         A[0, 1] * (A[1, 0] * A[2, 2] - A[1, 2] * A[2, 0]) +\n",
        "         A[0, 2] * (A[1, 0] * A[2, 1] - A[1, 1] * A[2, 0]))\n",
        "\n",
        "print(\"Determinant of A:\", det_A)\n",
        "\n",
        "# Step 2: Cofactor matrix\n",
        "cofactor_matrix = np.array([\n",
        "    [(A[1, 1] * A[2, 2] - A[1, 2] * A[2, 1]), -(A[1, 0] * A[2, 2] - A[1, 2] * A[2, 0]), (A[1, 0] * A[2, 1] - A[1, 1] * A[2, 0])],\n",
        "    [-(A[0, 1] * A[2, 2] - A[0, 2] * A[2, 1]), (A[0, 0] * A[2, 2] - A[0, 2] * A[2, 0]), -(A[0, 0] * A[2, 1] - A[0, 1] * A[2, 0])],\n",
        "    [(A[0, 1] * A[1, 2] - A[0, 2] * A[1, 1]), -(A[0, 0] * A[1, 2] - A[0, 2] * A[1, 0]), (A[0, 0] * A[1, 1] - A[0, 1] * A[1, 0])]\n",
        "])\n",
        "\n",
        "# Step 3: Adjoint of A (transpose of cofactor matrix)\n",
        "adjoint_A = cofactor_matrix.T\n",
        "\n",
        "# Step 4: Inverse of A\n",
        "inverse_A = adjoint_A / det_A\n",
        "print(\"\\nInverse of A:\\n\", inverse_A)\n",
        "\n",
        "# Step 5: X = A⁻¹B\n",
        "X = np.dot(inverse_A, B)\n",
        "print(\"\\nSolution (x, y, z):\", X)\n"
      ],
      "metadata": {
        "colab": {
          "base_uri": "https://localhost:8080/"
        },
        "id": "L0X0fjzFgPb_",
        "outputId": "6c49de5d-597f-4c18-c3c4-a7df9815315d"
      },
      "execution_count": 5,
      "outputs": [
        {
          "output_type": "stream",
          "name": "stdout",
          "text": [
            "Determinant of A: -19\n",
            "\n",
            "Inverse of A:\n",
            " [[ 0.05263158  0.10526316  0.26315789]\n",
            " [-0.36842105  0.26315789  0.15789474]\n",
            " [-0.21052632  0.57894737 -0.05263158]]\n",
            "\n",
            "Solution (x, y, z): [ 2.  1. -2.]\n"
          ]
        }
      ]
    },
    {
      "cell_type": "code",
      "source": [
        "# Now: solve the above equation using np.linalg.inv function.{Explore more about ”linalg” function of Numpy}\n",
        "\n",
        "import numpy as np\n",
        "\n",
        "A = np.array([[2, -3, 1],\n",
        "              [1, -1, 2],\n",
        "              [3, 1, -1]])\n",
        "\n",
        "B = np.array([-1, -3, 9])\n",
        "\n",
        "# Inverse of A using np.linalg.inv\n",
        "A_inv = np.linalg.inv(A)\n",
        "\n",
        "# X = A⁻¹B\n",
        "X = np.dot(A_inv, B)\n",
        "\n",
        "print(\"Inverse of A:\\n\", A_inv)\n",
        "print(\"\\nSolution (x, y, z):\", X)"
      ],
      "metadata": {
        "colab": {
          "base_uri": "https://localhost:8080/"
        },
        "id": "pFivt3bSgSZz",
        "outputId": "8995bae6-f41a-4d89-dd62-b8a2503430fd"
      },
      "execution_count": 6,
      "outputs": [
        {
          "output_type": "stream",
          "name": "stdout",
          "text": [
            "Inverse of A:\n",
            " [[ 0.05263158  0.10526316  0.26315789]\n",
            " [-0.36842105  0.26315789  0.15789474]\n",
            " [-0.21052632  0.57894737 -0.05263158]]\n",
            "\n",
            "Solution (x, y, z): [ 2.  1. -2.]\n"
          ]
        }
      ]
    },
    {
      "cell_type": "code",
      "source": [
        "# 4.2 Experiment: How Fast is Numpy?\n",
        "# In this exercise, you will compare the performance and implementation of operations using plain Python lists (arrays) and NumPy arrays.\n",
        "#Follow the instructions:\n",
        "\n",
        "import time\n",
        "\n",
        "# 1. Element-wise Addition:\n",
        "print(\"1. Element-wise Addition\")\n",
        "\n",
        "# Using Python Lists, perform element-wise addition of two lists of size 1, 000, 000. Measure and Print the time taken for this operation.\n",
        "list1 = [i for i in range(1_000_000)]\n",
        "list2 = [i for i in range(1_000_000)]\n",
        "\n",
        "start_time = time.time()\n",
        "result_list = [list1[i] + list2[i] for i in range(len(list1))]\n",
        "end_time = time.time()\n",
        "print(f\"Time taken by Python Lists: {end_time - start_time:.5f} seconds\")\n",
        "\n",
        "# Using Numpy Arrays, Repeat the calculation and measure and print the time taken for this operation.\n",
        "array1 = np.array(list1)\n",
        "array2 = np.array(list2)\n",
        "\n",
        "start_time = time.time()\n",
        "result_array = array1 + array2\n",
        "end_time = time.time()\n",
        "print(f\"Time taken by numpy: {end_time - start_time:.5f} seconds\\n\")"
      ],
      "metadata": {
        "colab": {
          "base_uri": "https://localhost:8080/"
        },
        "id": "zFtPRG4NgTvi",
        "outputId": "b765016e-7236-44c6-d183-79995d5ca6eb"
      },
      "execution_count": 7,
      "outputs": [
        {
          "output_type": "stream",
          "name": "stdout",
          "text": [
            "1. Element-wise Addition\n",
            "Time taken by Python Lists: 0.28699 seconds\n",
            "Time taken by numpy: 0.00561 seconds\n",
            "\n"
          ]
        }
      ]
    },
    {
      "cell_type": "code",
      "source": [
        "# 2. Element-wise Multiplication\n",
        "print(\"2. Element-wise Multiplication\")\n",
        "\n",
        "# Using Python Lists, perform element-wise multiplication of two lists of size 1, 000, 000. Measure and Print the time taken for this operation.\n",
        "start_time = time.time()\n",
        "result_list = [list1[i] * list2[i] for i in range(len(list1))]\n",
        "end_time = time.time()\n",
        "print(f\"Time taken by Python Lists: {end_time - start_time:.5f} seconds\")\n",
        "\n",
        "# Using Numpy Arrays, Repeat the calculation and measure and print the time taken for this operation.\n",
        "start_time = time.time()\n",
        "result_array = array1 * array2\n",
        "end_time = time.time()\n",
        "print(f\"Time taken by numpy: {end_time - start_time:.5f} seconds\\n\")\n"
      ],
      "metadata": {
        "colab": {
          "base_uri": "https://localhost:8080/"
        },
        "id": "uqAlZHH8gaI_",
        "outputId": "291f4d40-f08f-4109-9d3e-99ac9f8e0bd1"
      },
      "execution_count": 8,
      "outputs": [
        {
          "output_type": "stream",
          "name": "stdout",
          "text": [
            "2. Element-wise Multiplication\n",
            "Time taken by Python Lists: 0.16378 seconds\n",
            "Time taken by numpy: 0.00537 seconds\n",
            "\n"
          ]
        }
      ]
    },
    {
      "cell_type": "code",
      "source": [
        "# 3. Dot Product\n",
        "print(\"3. Dot Product\")\n",
        "\n",
        "# Using Python Lists, compute the dot product of two lists of size 1, 000, 000. Measure and Print the time taken for this operation.\n",
        "start_time = time.time()\n",
        "dot_product_list = sum(list1[i] * list2[i] for i in range(len(list1)))\n",
        "end_time = time.time()\n",
        "print(f\"Time taken by Python Lists: {end_time - start_time:.5f} seconds\")\n",
        "\n",
        "# Using Numpy Arrays, Repeat the calculation and measure and print the time taken for this operation.\n",
        "start_time = time.time()\n",
        "dot_product_array = np.dot(array1, array2)\n",
        "end_time = time.time()\n",
        "print(f\"Time taken by numpy: {end_time - start_time:.5f} seconds\\n\")"
      ],
      "metadata": {
        "colab": {
          "base_uri": "https://localhost:8080/"
        },
        "id": "BEA8zqbggbtm",
        "outputId": "3078dfde-7519-431d-9f15-887fa24aee0e"
      },
      "execution_count": 9,
      "outputs": [
        {
          "output_type": "stream",
          "name": "stdout",
          "text": [
            "3. Dot Product\n",
            "Time taken by Python Lists: 0.14937 seconds\n",
            "Time taken by numpy: 0.00212 seconds\n",
            "\n"
          ]
        }
      ]
    },
    {
      "cell_type": "code",
      "source": [
        "# 4. Matrix Multiplication\n",
        "print(\"4. Matrix Multiplication\")\n",
        "size = 100\n",
        "\n",
        "# Using Python lists, perform matrix multiplication of two matrices of size 1000x1000. Measure and print the time taken for this operation.\n",
        "matrix1 = [[i for i in range(size)] for _ in range(size)]\n",
        "matrix2 = [[j for j in range(size)] for _ in range(size)]\n",
        "\n",
        "start_time = time.time()\n",
        "result_matrix = [[sum(a * b for a, b in zip(row, col)) for col in zip(*matrix2)] for row in matrix1]\n",
        "end_time = time.time()\n",
        "print(f\"Time taken by Python Lists: {end_time - start_time:.5f} seconds\")\n",
        "\n",
        "# Using NumPy arrays, perform matrix multiplication of two matrices of size 1000x1000. Measure and print the time taken for this operation.\n",
        "matrix1_np = np.array(matrix1)\n",
        "matrix2_np = np.array(matrix2)\n",
        "\n",
        "start_time = time.time()\n",
        "result_matrix_np = np.dot(matrix1_np, matrix2_np)\n",
        "end_time = time.time()\n",
        "print(f\"Time taken by numpy: {end_time - start_time:.5f} seconds\")"
      ],
      "metadata": {
        "colab": {
          "base_uri": "https://localhost:8080/"
        },
        "id": "lQipIQeGgd4j",
        "outputId": "bdeaa1a4-a3a2-447d-c8b2-e0a03d28bbf6"
      },
      "execution_count": 10,
      "outputs": [
        {
          "output_type": "stream",
          "name": "stdout",
          "text": [
            "4. Matrix Multiplication\n",
            "Time taken by Python Lists: 0.14666 seconds\n",
            "Time taken by numpy: 0.00139 seconds\n"
          ]
        }
      ]
    }
  ]
}